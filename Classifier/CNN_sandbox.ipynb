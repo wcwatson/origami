{
 "cells": [
  {
   "cell_type": "markdown",
   "metadata": {},
   "source": [
    "# Exploring CNNs\n",
    "\n",
    "This notebook will help me experiment with CNNs to classify origami photos."
   ]
  },
  {
   "cell_type": "code",
   "execution_count": 1,
   "metadata": {},
   "outputs": [],
   "source": [
    "# Libraries\n",
    "import numpy as np\n",
    "import pandas as pd\n",
    "import tensorflow as tf\n",
    "import tensorflow.keras as keras\n",
    "import tensorboard\n",
    "import psycopg2\n",
    "from PIL import Image\n",
    "import os\n",
    "import h5py"
   ]
  },
  {
   "cell_type": "markdown",
   "metadata": {},
   "source": [
    "The data are stored locally in a PostgreSQL database. So let's connect and get them."
   ]
  },
  {
   "cell_type": "code",
   "execution_count": 2,
   "metadata": {},
   "outputs": [
    {
     "name": "stdout",
     "output_type": "stream",
     "text": [
      "Attempting to connect to PostgreSQL.\n",
      "Selecting rows from origami_images table.\n",
      "PostgreSQL connection closed.\n"
     ]
    }
   ],
   "source": [
    "# Read in data from origami database in PostgreSQL\n",
    "try:\n",
    "    print('Attempting to connect to PostgreSQL.')\n",
    "    conn = psycopg2.connect(host='localhost', database='origami', user='postgres', password='postgres')\n",
    "    cur = conn.cursor()\n",
    "    # SELECT image classifications and file paths from PostgreSQL\n",
    "    sql_select = \"SELECT image_class, image_path FROM origami_images;\"\n",
    "    cur.execute(sql_select)\n",
    "    print('Selecting rows from origami_images table.')\n",
    "    origami_images = cur.fetchall()\n",
    "except (Exception, psycopg2.DatabaseError) as error:\n",
    "    print(error)\n",
    "finally:\n",
    "    if conn is not None:\n",
    "        cur.close()\n",
    "        conn.close()\n",
    "        print('PostgreSQL connection closed.')"
   ]
  },
  {
   "cell_type": "markdown",
   "metadata": {},
   "source": [
    "This gives us `origami_images`, a list of tuples, each of which gives a class and a file path for the associated image."
   ]
  },
  {
   "cell_type": "code",
   "execution_count": 3,
   "metadata": {},
   "outputs": [
    {
     "data": {
      "text/plain": [
       "('butterfly',\n",
       " '/Users/wwatson/Desktop/Insight/Project/origami/Images/downloads/butterfly/26.jpeg')"
      ]
     },
     "execution_count": 3,
     "metadata": {},
     "output_type": "execute_result"
    }
   ],
   "source": [
    "origami_images[0]"
   ]
  },
  {
   "cell_type": "markdown",
   "metadata": {},
   "source": [
    "Let's turn this into a TensorFlow dataset, first constructing an array of class names."
   ]
  },
  {
   "cell_type": "code",
   "execution_count": 25,
   "metadata": {},
   "outputs": [
    {
     "name": "stdout",
     "output_type": "stream",
     "text": [
      "['butterfly' 'crane' 'duck' 'frog' 'star']\n",
      "tf.Tensor(\n",
      "[b'butterfly'\n",
      " b'/Users/wwatson/Desktop/Insight/Project/origami/Images/downloads/butterfly/26.jpeg'], shape=(2,), dtype=string)\n",
      "tf.Tensor(\n",
      "[b'butterfly'\n",
      " b'/Users/wwatson/Desktop/Insight/Project/origami/Images/downloads/butterfly/8.jpg'], shape=(2,), dtype=string)\n",
      "tf.Tensor(\n",
      "[b'butterfly'\n",
      " b'/Users/wwatson/Desktop/Insight/Project/origami/Images/downloads/butterfly/9.jpg'], shape=(2,), dtype=string)\n",
      "tf.Tensor(\n",
      "[b'butterfly'\n",
      " b'/Users/wwatson/Desktop/Insight/Project/origami/Images/downloads/butterfly/14.jpg'], shape=(2,), dtype=string)\n",
      "tf.Tensor(\n",
      "[b'butterfly'\n",
      " b'/Users/wwatson/Desktop/Insight/Project/origami/Images/downloads/butterfly/28.jpg'], shape=(2,), dtype=string)\n"
     ]
    }
   ],
   "source": [
    "class_names = []\n",
    "for img in origami_images:\n",
    "    if img[0] not in class_names:\n",
    "        class_names.append(img[0])\n",
    "class_names = np.array(class_names)\n",
    "print(class_names)\n",
    "print()\n",
    "\n",
    "path_ds = tf.data.Dataset.from_tensor_slices(origami_images)\n",
    "for element in path_ds.take(5):\n",
    "    print(element)"
   ]
  },
  {
   "cell_type": "markdown",
   "metadata": {},
   "source": [
    "Now let's define a couple of functions and constants to help process the images stored at these locations."
   ]
  },
  {
   "cell_type": "code",
   "execution_count": 29,
   "metadata": {},
   "outputs": [],
   "source": [
    "# Side length of normalized image\n",
    "IMG_SIZE = 256\n",
    "# AUTOTUNE parameter\n",
    "AUTOTUNE = tf.data.experimental.AUTOTUNE\n",
    "\n",
    "def get_label(category):\n",
    "    return category == class_names\n",
    "\n",
    "# Function to decode an image, render in grayscale and square dimensions\n",
    "def decode_img(img):\n",
    "    img = tf.io.decode_image(img, expand_animations=False)\n",
    "    img = tf.image.convert_image_dtype(img, tf.float32)\n",
    "    img = tf.image.rgb_to_grayscale(img)\n",
    "    return tf.image.resize(img, [IMG_SIZE, IMG_SIZE])\n",
    "\n",
    "# Function to process a file path and return the image\n",
    "def process_path(img_tuple):\n",
    "    # Get label from auxiliary function\n",
    "    label = get_label(img_tuple[0])\n",
    "    # Decode image using auxiliary function\n",
    "    file_path = img_tuple[1]\n",
    "    img = tf.io.read_file(file_path)\n",
    "    img = decode_img(img)\n",
    "    return img, label"
   ]
  },
  {
   "cell_type": "markdown",
   "metadata": {},
   "source": [
    "OK, now let's use the first dataset to create a second, this time actually reading the files. Let us also beef up this dataset's numbers, because...scraping is annoying."
   ]
  },
  {
   "cell_type": "code",
   "execution_count": 65,
   "metadata": {},
   "outputs": [
    {
     "name": "stdout",
     "output_type": "stream",
     "text": [
      "Image shape:  (256, 256, 1)\n",
      "Label:  [ True False False False False]\n"
     ]
    }
   ],
   "source": [
    "image_ds = path_ds.map(process_path, num_parallel_calls=AUTOTUNE)\n",
    "image_ds.repeat(5)\n",
    "image_ds.shuffle(5)\n",
    "\n",
    "for image, label in image_ds.take(1):\n",
    "    print('Image shape: ', image.numpy().shape)\n",
    "    print('Label: ', label.numpy())"
   ]
  },
  {
   "cell_type": "markdown",
   "metadata": {},
   "source": [
    "Right, now that we have a tf-usable dataset in hand, let's design a model."
   ]
  },
  {
   "cell_type": "code",
   "execution_count": 38,
   "metadata": {},
   "outputs": [],
   "source": [
    "nn = keras.Sequential()\n",
    "# Layer construction w/ L2 regularizers on convolutional layers\n",
    "nn.add(keras.layers.Conv2D(64, kernel_size=3, activation='relu', input_shape=(IMG_SIZE, IMG_SIZE, 1)))\n",
    "nn.add(keras.layers.Conv2D(32, kernel_size=3, activation='relu'))\n",
    "nn.add(keras.layers.Flatten())\n",
    "nn.add(keras.layers.Dense(len(class_names), activation='softmax'))"
   ]
  },
  {
   "cell_type": "markdown",
   "metadata": {},
   "source": [
    "Let's compile it."
   ]
  },
  {
   "cell_type": "code",
   "execution_count": 39,
   "metadata": {},
   "outputs": [
    {
     "name": "stdout",
     "output_type": "stream",
     "text": [
      "Model: \"sequential_3\"\n",
      "_________________________________________________________________\n",
      "Layer (type)                 Output Shape              Param #   \n",
      "=================================================================\n",
      "conv2d_4 (Conv2D)            (None, 254, 254, 64)      640       \n",
      "_________________________________________________________________\n",
      "conv2d_5 (Conv2D)            (None, 252, 252, 32)      18464     \n",
      "_________________________________________________________________\n",
      "flatten_2 (Flatten)          (None, 2032128)           0         \n",
      "_________________________________________________________________\n",
      "dense_1 (Dense)              (None, 5)                 10160645  \n",
      "=================================================================\n",
      "Total params: 10,179,749\n",
      "Trainable params: 10,179,749\n",
      "Non-trainable params: 0\n",
      "_________________________________________________________________\n"
     ]
    }
   ],
   "source": [
    "nn.compile(optimizer='adam',\n",
    "           loss=keras.losses.SparseCategoricalCrossentropy(from_logits=True),\n",
    "           metrics=[keras.losses.SparseCategoricalCrossentropy(from_logits=True, name='binary_crossentropy'),\n",
    "                    'accuracy'])\n",
    "nn.summary()"
   ]
  },
  {
   "cell_type": "markdown",
   "metadata": {},
   "source": [
    "Now that we have a model, let's fetch input and output from our dataset and fit."
   ]
  },
  {
   "cell_type": "code",
   "execution_count": 61,
   "metadata": {},
   "outputs": [
    {
     "ename": "AttributeError",
     "evalue": "'ParallelMapDataset' object has no attribute 'as_numpy_iterator'",
     "output_type": "error",
     "traceback": [
      "\u001b[0;31m---------------------------------------------------------------------------\u001b[0m",
      "\u001b[0;31mAttributeError\u001b[0m                            Traceback (most recent call last)",
      "\u001b[0;32m<ipython-input-61-f715e8eea0fc>\u001b[0m in \u001b[0;36m<module>\u001b[0;34m\u001b[0m\n\u001b[0;32m----> 1\u001b[0;31m \u001b[0morigami_X\u001b[0m\u001b[0;34m,\u001b[0m \u001b[0morigami_y\u001b[0m \u001b[0;34m=\u001b[0m \u001b[0mget_io\u001b[0m\u001b[0;34m(\u001b[0m\u001b[0mimage_ds\u001b[0m\u001b[0;34m)\u001b[0m\u001b[0;34m\u001b[0m\u001b[0;34m\u001b[0m\u001b[0m\n\u001b[0m\u001b[1;32m      2\u001b[0m \u001b[0mnn\u001b[0m\u001b[0;34m.\u001b[0m\u001b[0mfit\u001b[0m\u001b[0;34m(\u001b[0m\u001b[0morigami_X\u001b[0m\u001b[0;34m,\u001b[0m \u001b[0morigami_y\u001b[0m\u001b[0;34m,\u001b[0m \u001b[0mepochs\u001b[0m\u001b[0;34m=\u001b[0m\u001b[0;36m10\u001b[0m\u001b[0;34m)\u001b[0m\u001b[0;34m\u001b[0m\u001b[0;34m\u001b[0m\u001b[0m\n",
      "\u001b[0;32m<ipython-input-60-5315d1cf2a3f>\u001b[0m in \u001b[0;36mget_io\u001b[0;34m(ds)\u001b[0m\n\u001b[1;32m      2\u001b[0m     \u001b[0mX\u001b[0m \u001b[0;34m=\u001b[0m \u001b[0;34m[\u001b[0m\u001b[0;34m]\u001b[0m\u001b[0;34m\u001b[0m\u001b[0;34m\u001b[0m\u001b[0m\n\u001b[1;32m      3\u001b[0m     \u001b[0my\u001b[0m \u001b[0;34m=\u001b[0m \u001b[0;34m[\u001b[0m\u001b[0;34m]\u001b[0m\u001b[0;34m\u001b[0m\u001b[0;34m\u001b[0m\u001b[0m\n\u001b[0;32m----> 4\u001b[0;31m     \u001b[0;32mfor\u001b[0m \u001b[0melement\u001b[0m \u001b[0;32min\u001b[0m \u001b[0mds\u001b[0m\u001b[0;34m.\u001b[0m\u001b[0mas_numpy_iterator\u001b[0m\u001b[0;34m(\u001b[0m\u001b[0;34m)\u001b[0m\u001b[0;34m:\u001b[0m\u001b[0;34m\u001b[0m\u001b[0;34m\u001b[0m\u001b[0m\n\u001b[0m\u001b[1;32m      5\u001b[0m         \u001b[0mX\u001b[0m\u001b[0;34m.\u001b[0m\u001b[0mappend\u001b[0m\u001b[0;34m(\u001b[0m\u001b[0melement\u001b[0m\u001b[0;34m[\u001b[0m\u001b[0;36m0\u001b[0m\u001b[0;34m]\u001b[0m\u001b[0;34m)\u001b[0m\u001b[0;34m\u001b[0m\u001b[0;34m\u001b[0m\u001b[0m\n\u001b[1;32m      6\u001b[0m         \u001b[0my\u001b[0m\u001b[0;34m.\u001b[0m\u001b[0mappend\u001b[0m\u001b[0;34m(\u001b[0m\u001b[0melement\u001b[0m\u001b[0;34m[\u001b[0m\u001b[0;36m1\u001b[0m\u001b[0;34m]\u001b[0m\u001b[0;34m)\u001b[0m\u001b[0;34m\u001b[0m\u001b[0;34m\u001b[0m\u001b[0m\n",
      "\u001b[0;31mAttributeError\u001b[0m: 'ParallelMapDataset' object has no attribute 'as_numpy_iterator'"
     ]
    }
   ],
   "source": [
    "# TODO: MAKE THIS WORK!\n",
    "origami_X, origami_y = image_ds.images, image_ds.labels\n",
    "nn.fit(origami_X, origami_y, epochs=10)"
   ]
  },
  {
   "cell_type": "code",
   "execution_count": null,
   "metadata": {},
   "outputs": [],
   "source": []
  },
  {
   "cell_type": "code",
   "execution_count": 67,
   "metadata": {},
   "outputs": [
    {
     "ename": "AttributeError",
     "evalue": "'ParallelMapDataset' object has no attribute 'image'",
     "output_type": "error",
     "traceback": [
      "\u001b[0;31m---------------------------------------------------------------------------\u001b[0m",
      "\u001b[0;31mAttributeError\u001b[0m                            Traceback (most recent call last)",
      "\u001b[0;32m<ipython-input-67-db99dcec889a>\u001b[0m in \u001b[0;36m<module>\u001b[0;34m\u001b[0m\n\u001b[0;32m----> 1\u001b[0;31m \u001b[0mimage_ds\u001b[0m\u001b[0;34m.\u001b[0m\u001b[0mimage\u001b[0m\u001b[0;34m\u001b[0m\u001b[0;34m\u001b[0m\u001b[0m\n\u001b[0m",
      "\u001b[0;31mAttributeError\u001b[0m: 'ParallelMapDataset' object has no attribute 'image'"
     ]
    }
   ],
   "source": []
  },
  {
   "cell_type": "code",
   "execution_count": null,
   "metadata": {},
   "outputs": [],
   "source": []
  }
 ],
 "metadata": {
  "kernelspec": {
   "display_name": "firstEnv",
   "language": "python",
   "name": "firstenv"
  },
  "language_info": {
   "codemirror_mode": {
    "name": "ipython",
    "version": 3
   },
   "file_extension": ".py",
   "mimetype": "text/x-python",
   "name": "python",
   "nbconvert_exporter": "python",
   "pygments_lexer": "ipython3",
   "version": "3.7.7"
  }
 },
 "nbformat": 4,
 "nbformat_minor": 4
}
